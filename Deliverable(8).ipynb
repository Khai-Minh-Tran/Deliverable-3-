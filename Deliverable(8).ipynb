{
  "nbformat": 4,
  "nbformat_minor": 0,
  "metadata": {
    "colab": {
      "provenance": [],
      "authorship_tag": "ABX9TyOQlbl4XuzhVaAfS52pyNOV",
      "include_colab_link": true
    },
    "kernelspec": {
      "name": "python3",
      "display_name": "Python 3"
    },
    "language_info": {
      "name": "python"
    }
  },
  "cells": [
    {
      "cell_type": "markdown",
      "metadata": {
        "id": "view-in-github",
        "colab_type": "text"
      },
      "source": [
        "<a href=\"https://colab.research.google.com/github/Khai-Minh-Tran/Deliverable-3-/blob/main/Deliverable(8).ipynb\" target=\"_parent\"><img src=\"https://colab.research.google.com/assets/colab-badge.svg\" alt=\"Open In Colab\"/></a>"
      ]
    },
    {
      "cell_type": "code",
      "execution_count": 1,
      "metadata": {
        "id": "x6TupxrCTfaP"
      },
      "outputs": [],
      "source": [
        "import numpy as np"
      ]
    },
    {
      "cell_type": "code",
      "source": [
        "def random_list(size):\n",
        "  list = []\n",
        "  for i in range(size):\n",
        "    list.append(np.random.randint(10,50))\n",
        "  return list\n",
        "\n",
        "def sum_random (list):\n",
        "  sum = 0\n",
        "  for i in range(len(list)):\n",
        "    sum = sum + list[i]\n",
        "  return sum"
      ],
      "metadata": {
        "id": "VE-qCsCFTokp"
      },
      "execution_count": 4,
      "outputs": []
    },
    {
      "cell_type": "code",
      "source": [
        "n = int(input(\"Enter some integer\"))"
      ],
      "metadata": {
        "colab": {
          "base_uri": "https://localhost:8080/"
        },
        "id": "B2JPxIbCUD95",
        "outputId": "b14c1952-3b3b-45d5-bd9d-6ff1b8aa0cb7"
      },
      "execution_count": 5,
      "outputs": [
        {
          "name": "stdout",
          "output_type": "stream",
          "text": [
            "Enter some integer10\n"
          ]
        }
      ]
    },
    {
      "cell_type": "code",
      "source": [
        "MyList = random_list(n)\n",
        "MyList"
      ],
      "metadata": {
        "colab": {
          "base_uri": "https://localhost:8080/"
        },
        "id": "zEqwZAw2YfHm",
        "outputId": "b3d7ed5f-f19f-420c-c6b6-816954fc771b"
      },
      "execution_count": 6,
      "outputs": [
        {
          "output_type": "execute_result",
          "data": {
            "text/plain": [
              "[40, 49, 17, 47, 10, 12, 13, 36, 34, 44]"
            ]
          },
          "metadata": {},
          "execution_count": 6
        }
      ]
    },
    {
      "cell_type": "code",
      "source": [
        "MySum = sum_random(MyList)\n",
        "MySum\n"
      ],
      "metadata": {
        "colab": {
          "base_uri": "https://localhost:8080/"
        },
        "id": "28-G9HQxYn3V",
        "outputId": "218417a9-4117-4221-c297-ebf6f74418b1"
      },
      "execution_count": 8,
      "outputs": [
        {
          "output_type": "execute_result",
          "data": {
            "text/plain": [
              "302"
            ]
          },
          "metadata": {},
          "execution_count": 8
        }
      ]
    },
    {
      "cell_type": "code",
      "source": [
        "MyList2 = np.random.randint(10,50,n)\n",
        "MyList2"
      ],
      "metadata": {
        "colab": {
          "base_uri": "https://localhost:8080/"
        },
        "id": "MxOV41UcYu9f",
        "outputId": "4509a84b-e92d-4fac-a638-bd54cb3a179e"
      },
      "execution_count": 9,
      "outputs": [
        {
          "output_type": "execute_result",
          "data": {
            "text/plain": [
              "array([43, 31, 23, 27, 25, 32, 19, 39, 12, 32])"
            ]
          },
          "metadata": {},
          "execution_count": 9
        }
      ]
    },
    {
      "cell_type": "code",
      "source": [
        "MySum2 = sum(MyList2)\n",
        "MySum2"
      ],
      "metadata": {
        "colab": {
          "base_uri": "https://localhost:8080/"
        },
        "id": "gdS5SjNkY9_y",
        "outputId": "46f8a930-25c6-4fbc-c944-23bfab0fbc7d"
      },
      "execution_count": 10,
      "outputs": [
        {
          "output_type": "execute_result",
          "data": {
            "text/plain": [
              "283"
            ]
          },
          "metadata": {},
          "execution_count": 10
        }
      ]
    },
    {
      "cell_type": "code",
      "source": [],
      "metadata": {
        "id": "6mZF-0DgZI8D"
      },
      "execution_count": null,
      "outputs": []
    }
  ]
}